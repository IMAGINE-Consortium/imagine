{
 "cells": [
  {
   "cell_type": "markdown",
   "metadata": {},
   "source": [
    "# IMAGINE tutorial 2 -- another example.\n",
    "\n",
    "### (Using a different toy model for the field and its corresponding toy simulator.)\n",
    "\n",
    "In Tutorial 1, we briefly reviewed the basic features in IMAGINE.\n",
    "\n",
    "This tutorial will not teach you new features in IMAGINE, but does the same analysis on a different field model. This will give you an idea of how some fields are easier to determine than others using these methods. \n",
    "\n",
    "The field in this tutorial is designed to mimick emission intensities which is roughly proportional to (Galactic) magnetic field energy density, e.g. field  strength squared.\n",
    "\n",
    "$ signal(x) = [sin(x) * \\mathcal{G}(mean=a0,std=b0;seed=s)]^2 $, $x \\in (0,2\\pi)$\n",
    "\n",
    "You will see that the influence of having variance-like fluctuations in the observable differs dramatically from what we have seen in tutorial 1.\n",
    "\n",
    "This tutorial has a threshold in data size, i.e. taking $ size<5 $ in this tutorial will fail.\n",
    "\n",
    "sampling efficiency is highly suppressed\n",
    "\n",
    "<span style=\"color:red\">**the following Bayesian sampling processes can be quite expensive**</span>"
   ]
  },
  {
   "cell_type": "code",
   "execution_count": null,
   "metadata": {},
   "outputs": [],
   "source": [
    "import numpy as np\n",
    "import logging as log\n",
    "\n",
    "from imagine.observables.observable_dict import Simulations, Measurements, Covariances\n",
    "from imagine.likelihoods.ensemble_likelihood import EnsembleLikelihood\n",
    "from imagine.fields.test_field.test_field_factory import TestFieldFactory\n",
    "from imagine.priors.flat_prior import FlatPrior\n",
    "from imagine.simulators.test.bi_simulator import BiSimulator\n",
    "from imagine.pipelines.multinest_pipeline import MultinestPipeline\n",
    "from imagine.tools.covariance_estimator import oas_cov\n",
    "\n",
    "# visualize posterior\n",
    "import corner\n",
    "import matplotlib\n",
    "from imagine.tools.carrier_mapper import unity_mapper\n",
    "matplotlib.use('Agg')\n",
    "\n",
    "%matplotlib inline"
   ]
  },
  {
   "cell_type": "markdown",
   "metadata": {},
   "source": [
    "## step 1, mock data preparation\n",
    "\n",
    "For explanation, see tutorial 1."
   ]
  },
  {
   "cell_type": "code",
   "execution_count": null,
   "metadata": {},
   "outputs": [],
   "source": [
    "a0 = 3. # true value of a\n",
    "b0 = 6. # true value of b\n",
    "e = 0.1 # std of gaussian measurement error\n",
    "s = 233 # seed fixed for signal field\n",
    "\n",
    "size = 20\n",
    "x = np.linspace(0,2.*np.pi,size)\n",
    "\n",
    "np.random.seed(s)\n",
    "\n",
    "signal = np.square (np.multiply (np.sin(x), np.random.normal(loc=a0,scale=b0,size=size)))\n",
    "\n",
    "data = np.vstack([signal + np.random.normal(loc=0.,scale=e,size=size)])\n",
    "\n",
    "cov = (e**2) * np.eye(size)\n",
    "\n",
    "mock_data = Measurements()\n",
    "mock_data.append(('test', 'nan', str(size), 'nan'), data, True)\n",
    "\n",
    "mock_cov = Covariances() # create empty Covariance object\n",
    "mock_cov.append(('test', 'nan', str(size), 'nan'), cov, True)\n",
    "\n",
    "matplotlib.pyplot.scatter(x, mock_data[('test', 'nan', str(size), 'nan')].global_data[0])\n",
    "matplotlib.pyplot.plot(x,(np.sin(x)*a0)**2,'r--')"
   ]
  },
  {
   "cell_type": "markdown",
   "metadata": {},
   "source": [
    "## step 2, pipeline preparation\n",
    "The simulator used for this example is BiSimulator, consisting of the emissivity function defined above."
   ]
  },
  {
   "cell_type": "code",
   "execution_count": null,
   "metadata": {},
   "outputs": [],
   "source": [
    "factory = TestFieldFactory(active_parameters=('a','b'))\n",
    "factory.parameter_ranges = {'a':(0,10),'b':(0,10)}\n",
    "factory_list = [factory]\n",
    "\n",
    "simer = BiSimulator(mock_data) # now we use a different simulator\n",
    "\n",
    "prior = FlatPrior()\n",
    "\n",
    "likelihood = EnsembleLikelihood(mock_data, mock_cov)\n",
    "\n",
    "ensemble_size = 100\n",
    "pipe = MultinestPipeline(simer, factory_list, likelihood, prior, ensemble_size)\n",
    "#pipe.random_seed = 8 # favor fixed seed? try a positive integer\n",
    "pipe.sampling_controllers = {'n_iter_before_update': 1,\n",
    "                             'n_live_points': 400,\n",
    "                             'verbose': False,\n",
    "                             'resume': False}"
   ]
  },
  {
   "cell_type": "markdown",
   "metadata": {},
   "source": [
    "## step 3, roll out with MultiNest"
   ]
  },
  {
   "cell_type": "markdown",
   "metadata": {},
   "source": [
    "please turn to the [example](https://bitbucket.org/hammurabicode/imagine/src/master/examples/test_examples/bisimulator_multinest.py) and run with MPI support."
   ]
  },
  {
   "cell_type": "markdown",
   "metadata": {},
   "source": [
    "## step 3a, roll out with Dynesty"
   ]
  },
  {
   "cell_type": "code",
   "execution_count": null,
   "metadata": {},
   "outputs": [],
   "source": [
    "from imagine.pipelines.dynesty_pipeline import DynestyPipeline\n",
    "\n",
    "pipe = DynestyPipeline(simer, factory_list, likelihood, prior, ensemble_size)\n",
    "pipe.random_type = 'free'\n",
    "pipe.sampling_controllers = {'nlive': 4000} # mind the difference here\n",
    "\n",
    "results = pipe()\n",
    "samples = results['samples']\n",
    "for i in range(len(pipe.active_parameters)):\n",
    "    low, high = pipe.active_ranges[pipe.active_parameters[i]]\n",
    "    for j in range(samples.shape[0]):\n",
    "        samples[j, i] = unity_mapper(samples[j, i], low, high)\n",
    "# corner plot\n",
    "figure = corner.corner(samples[:, :len(pipe.active_parameters)],\n",
    "                       range=[0.99]*len(pipe.active_parameters),\n",
    "                       quantiles=[0.02, 0.5, 0.98],\n",
    "                       labels=pipe.active_parameters,\n",
    "                       show_titles=True,\n",
    "                       title_kwargs={\"fontsize\": 15},\n",
    "                       color='steelblue',\n",
    "                       truths=[a0,b0],\n",
    "                       truth_color='firebrick',\n",
    "                       plot_contours=True,\n",
    "                       hist_kwargs={'linewidth': 2},\n",
    "                       label_kwargs={'fontsize': 15})"
   ]
  },
  {
   "cell_type": "markdown",
   "metadata": {},
   "source": [
    "## convergence check"
   ]
  },
  {
   "cell_type": "code",
   "execution_count": null,
   "metadata": {},
   "outputs": [],
   "source": [
    "from scipy.stats import norm\n",
    "repeat = 2\n",
    "\n",
    "for i in range(repeat):\n",
    "    tmp = pipe()\n",
    "    asamp = tmp['samples'][:,0]\n",
    "    bsamp = tmp['samples'][:,1]\n",
    "    matplotlib.pyplot.hist(asamp,30,histtype='step',stacked=True,fill=True,color='firebrick',alpha=0.1)\n",
    "    matplotlib.pyplot.hist(bsamp,30,histtype='step',stacked=True,fill=True,label='b',color='steelblue',alpha=0.1)"
   ]
  },
  {
   "cell_type": "markdown",
   "metadata": {},
   "source": [
    "### This ends tutorial 2. Continue to tutorials 3-5:\n",
    "The python script for tutorial 2 can be found in [bi_multinest](https://bitbucket.org/hammurabicode/imagine/src/master/examples/test_examples/bisimulator_multinest.py) and [bi_dynesty](https://bitbucket.org/hammurabicode/imagine/src/master/examples/test_examples/bisimulator_dynesty.py)\n",
    "\n",
    "* [Tutorial 3](tutorial_three.ipynb):  On calling hammurabiX and/or setting it up for use in an IMAGINE pipeline\n",
    "* [Tutorial 4](tutorial_four.ipynb):  Data masking\n",
    "* [Tutorial 5](tutorial_five.ipynb):  An almost realistic pipeline run\n",
    "\n",
    "Or see more examples in the *imagine/examples* directory"
   ]
  }
 ],
 "metadata": {
  "kernelspec": {
   "display_name": "Python 3",
   "language": "python",
   "name": "python3"
  },
  "language_info": {
   "codemirror_mode": {
    "name": "ipython",
    "version": 3
   },
   "file_extension": ".py",
   "mimetype": "text/x-python",
   "name": "python",
   "nbconvert_exporter": "python",
   "pygments_lexer": "ipython3",
   "version": "3.7.4"
  }
 },
 "nbformat": 4,
 "nbformat_minor": 4
}
