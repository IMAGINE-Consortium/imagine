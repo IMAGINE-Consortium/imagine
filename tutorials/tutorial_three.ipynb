{
 "cells": [
  {
   "cell_type": "markdown",
   "metadata": {},
   "source": [
    "# IMAGINE tutorial 3 -- using hammurabiX \n",
    "\n",
    "### Here we show how to use hammurabiX with its BregLSA field model and its CREAna CR model.\n",
    "\n",
    "This tutorial describes the interface to hammurabiX that will be used in IMAGINE."
   ]
  },
  {
   "cell_type": "code",
   "execution_count": null,
   "metadata": {},
   "outputs": [],
   "source": [
    "import matplotlib\n",
    "%matplotlib inline\n",
    "\n",
    "import unittest\n",
    "import os\n",
    "import numpy as np\n",
    "import healpy as hp\n",
    "\n",
    "from imagine.observables.observable_dict import Measurements\n",
    "from imagine.simulators.hammurabi.hammurabi import Hammurabi\n",
    "from imagine.fields.breg_lsa.hamx_field import BregLSA\n",
    "from imagine.fields.cre_analytic.hamx_field import CREAna\n",
    "from imagine.fields.tereg_ymw16.hamx_field import TEregYMW16"
   ]
  },
  {
   "cell_type": "markdown",
   "metadata": {},
   "source": [
    "The IMAGINE simulator that uses hammurabiX is the `Hammurabi` class, which in turn wraps hammurabiX's own python wrapper hampyx.  It is convenient not using hampyx directly, considering future updates in hammurabiX.  \n",
    "\n",
    "Note that hampyx depends on an XML parameter file.  \n",
    "\n",
    "### Generate a simulated dataset with hammurabiX\n",
    "\n",
    "The initialization of the simulator includes defining which datasets are to be simulated.  It then prints its setup, showing that we have defined three observables:  "
   ]
  },
  {
   "cell_type": "code",
   "execution_count": null,
   "metadata": {},
   "outputs": [],
   "source": [
    "## Create some empty measuremnt arrays\n",
    "arr32 = np.zeros((1, 12*32**2))\n",
    "arr16 = np.zeros((1, 12*16**2))\n",
    "arr8 = np.zeros((1, 12*8**2))\n",
    "measuredict = Measurements()\n",
    "## Fill the measurements object with these arrays and tell\n",
    "##  it what sorts of data they are.  \n",
    "##\n",
    "## First, a synchrotron total intensity dataset at 23 GHz at Nside=32\n",
    "measuredict.append(('sync', '23', '32', 'I'), arr32)  \n",
    "## Then a Faraday depth dataset of Nside=16\n",
    "measuredict.append(('fd', 'nan', '16', 'nan'), arr16)\n",
    "## And a Faraday dispersion measure dataset at Nside=8.\n",
    "measuredict.append(('dm', 'nan', '8', 'nan'), arr8)\n",
    "## It needs to k now where the base XML template is.  You may want to \n",
    "##  store different sets of hammuarbi parameters in different XML files.\n",
    "xmlpath = './template.xml'\n",
    "simer = Hammurabi(measurements=measuredict,xml_path=xmlpath)"
   ]
  },
  {
   "cell_type": "markdown",
   "metadata": {},
   "source": [
    "Now, in addition to the types of data to simulate, the simulator also needs to be told what field models to use:\n"
   ]
  },
  {
   "cell_type": "code",
   "execution_count": null,
   "metadata": {},
   "outputs": [],
   "source": [
    "## ensemble size\n",
    "ensemble_size = 2\n",
    "\n",
    "## Set up the BregLSA field with the parameters you want:\n",
    "paramlist = {'b0': 6.0, 'psi0': 27.9, 'psi1': 1.3, 'chi0': 24.6}\n",
    "breg_wmap = BregLSA(paramlist, ensemble_size)\n",
    "\n",
    "## Set up the analytic CR model CREAna \n",
    "paramlist = {'alpha': 3.0, 'beta': 0.0, 'theta': 0.0,\n",
    "             'r0': 5.6, 'z0': 1.2,\n",
    "             'E0': 20.5,\n",
    "             'j0': 0.03}\n",
    "cre_ana = CREAna(paramlist, ensemble_size)\n",
    "\n",
    "\n",
    "##  The free electron model based on YMW16, ie. TEregYMW16 \n",
    "paramlist = dict()\n",
    "fereg_ymw16 = TEregYMW16(paramlist, ensemble_size)\n",
    "\n",
    "## Push fields to the simulator object initialized above:\n",
    "simer.register_fields([breg_wmap, cre_ana, fereg_ymw16])\n",
    "\n",
    "# Check the initialization of the simulator object:\n",
    "simer._ham.print_par(['magneticfield', 'regular'])\n",
    "simer._ham.print_par(['magneticfield', 'regular', 'wmap'])\n",
    "simer._ham.print_par(['cre'])\n",
    "simer._ham.print_par(['cre', 'analytic'])\n",
    "simer._ham.print_par(['thermalelectron', 'regular'])"
   ]
  },
  {
   "cell_type": "markdown",
   "metadata": {},
   "source": [
    "Now, without running the IMAGINE pipeline itself, we illustrate how hammurabiX is invoked internally by the pipeline to generate one set of observables:"
   ]
  },
  {
   "cell_type": "code",
   "execution_count": null,
   "metadata": {},
   "outputs": [],
   "source": [
    "maps = simer([breg_wmap, cre_ana, fereg_ymw16])"
   ]
  },
  {
   "cell_type": "markdown",
   "metadata": {},
   "source": [
    "`Simulator` by convention returns a `Simulations` object, which collect all required maps.  We want to get them back as arrays we can visualize with healpy.  The `data` attribute does this, and note that what it gets back is a **set** of two of each type of observable, since we specified `ensemble_size=2` above.  But since we have not yet added a random component, they are both the same:  "
   ]
  },
  {
   "cell_type": "code",
   "execution_count": null,
   "metadata": {},
   "outputs": [],
   "source": [
    "print (maps.keys())\n",
    "\n",
    "sync_i_raw = maps[('sync','23','32','I')].data\n",
    "dm_raw = maps[('dm', 'nan', '8', 'nan')].data\n",
    "fd_raw = maps[('fd', 'nan', '16', 'nan')].data\n",
    "\n",
    "print (sync_i_raw.shape, dm_raw.shape, fd_raw.shape)\n",
    "\n",
    "hp.mollview(sync_i_raw[0], norm='hist', cmap='jet')"
   ]
  },
  {
   "cell_type": "markdown",
   "metadata": {},
   "source": [
    "### Using a random component:   BrndES\n",
    "\n",
    "Now we add a random GMF component with the BrndES model.  This model starts with a random number generator to simulate a Gaussian random field on a cartesian grid and ensures that it is divergence free.  The grid is defined in hammurabiX XML parameter file.  "
   ]
  },
  {
   "cell_type": "code",
   "execution_count": null,
   "metadata": {},
   "outputs": [],
   "source": [
    "from imagine.fields.brnd_es.hamx_field import BrndES\n",
    "\n",
    "paramlist = {'rms': 6., 'k0': 0.5, 'a0': 1.7, \n",
    "             'k1': 0.5, 'a1': 0.0,\n",
    "             'rho': 0.5, 'r0': 8., 'z0': 1.}\n",
    "brnd_es = BrndES(paramlist, ensemble_size)"
   ]
  },
  {
   "cell_type": "markdown",
   "metadata": {},
   "source": [
    "Now use the simulator to generate the maps from these field components and visualize:"
   ]
  },
  {
   "cell_type": "code",
   "execution_count": null,
   "metadata": {},
   "outputs": [],
   "source": [
    "maps = simer([breg_wmap, brnd_es, cre_ana, fereg_ymw16])"
   ]
  },
  {
   "cell_type": "code",
   "execution_count": null,
   "metadata": {},
   "outputs": [],
   "source": [
    "print (maps.keys())\n",
    "\n",
    "sync_i_raw = maps[('sync','23','32','I')].data\n",
    "dm_raw = maps[('dm', 'nan', '8', 'nan')].data\n",
    "fd_raw = maps[('fd', 'nan', '16', 'nan')].data\n",
    "\n",
    "print (sync_i_raw.shape, dm_raw.shape, fd_raw.shape)"
   ]
  },
  {
   "cell_type": "code",
   "execution_count": null,
   "metadata": {},
   "outputs": [],
   "source": [
    "maps[('fd', 'nan', '16', 'nan')]._data, maps[('fd', 'nan', '16', 'nan')].data\n",
    "maps[('fd', 'nan', '16', 'nan')].dtype\n"
   ]
  },
  {
   "cell_type": "code",
   "execution_count": null,
   "metadata": {},
   "outputs": [],
   "source": [
    "matplotlib.rcParams['figure.figsize'] = (10.0, 4.0)\n",
    "hp.mollview(sync_i_raw[0], norm='hist', cmap='jet',sub=(1,2,1),title=\"sim # 1\")\n",
    "hp.mollview(sync_i_raw[1], norm='hist', cmap='jet',sub=(1,2,2),title=\"sim # 2\")"
   ]
  },
  {
   "cell_type": "markdown",
   "metadata": {},
   "source": [
    "### This ends tutorial 3.\n",
    "\n",
    "See more examples in the *imagine/examples* directory"
   ]
  },
  {
   "cell_type": "code",
   "execution_count": null,
   "metadata": {},
   "outputs": [],
   "source": []
  }
 ],
 "metadata": {
  "kernelspec": {
   "display_name": "Python 3",
   "language": "python",
   "name": "python3"
  },
  "language_info": {
   "codemirror_mode": {
    "name": "ipython",
    "version": 3
   },
   "file_extension": ".py",
   "mimetype": "text/x-python",
   "name": "python",
   "nbconvert_exporter": "python",
   "pygments_lexer": "ipython3",
   "version": "3.7.5"
  }
 },
 "nbformat": 4,
 "nbformat_minor": 4
}
