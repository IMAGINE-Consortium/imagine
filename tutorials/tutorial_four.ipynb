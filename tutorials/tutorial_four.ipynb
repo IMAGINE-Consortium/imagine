{
 "cells": [
  {
   "cell_type": "markdown",
   "metadata": {},
   "source": [
    "# IMAGINE tutorial 4 --  data masking\n",
    "\n",
    "### Or how to mask the datasets easily.  \n",
    "\n",
    "For users who do not want to simulate and fit a full sky map (e.g., to remove confusing regions) or who need patches of a HEALPix map at high resolution, IMAGINE has a Masks class derived from **ObservableDict**.  **hammurabiX** provides galactic longitude/latitude limit controllers, but the Masks class is more flexible.  It also applies the masks correctly not only to the simulation but also the measured data sets and the corresponding observational covariances.  "
   ]
  },
  {
   "cell_type": "code",
   "execution_count": null,
   "metadata": {},
   "outputs": [],
   "source": [
    "%matplotlib inline\n",
    "\n",
    "import numpy as np\n",
    "import healpy as hp\n",
    "\n",
    "from imagine.observables.observable_dict import Measurements, Simulations, Covariances, Masks\n",
    "from imagine.simulators.hammurabi.hammurabi import Hammurabi\n",
    "from imagine.fields.breg_lsa.hamx_field import BregLSA\n",
    "from imagine.fields.cre_analytic.hamx_field import CREAna\n",
    "from imagine.fields.tereg_ymw16.hamx_field import TEregYMW16"
   ]
  },
  {
   "cell_type": "markdown",
   "metadata": {},
   "source": [
    "First of all, make an example, let's mask out low latitude ($ |l| < 20^\\circ $) pixels and those inside four local loops"
   ]
  },
  {
   "cell_type": "code",
   "execution_count": null,
   "metadata": {},
   "outputs": [],
   "source": [
    "mask_nside = 32\n",
    "\n",
    "# mask loops and latitude\n",
    "def mask_map_val(_nside,_ipix):\n",
    "    l,b = hp.pix2ang(_nside,_ipix,lonlat=True)\n",
    "    R = np.pi/180.\n",
    "    cue = 1\n",
    "    L = [329,100,124,315]\n",
    "    B = [17.5,-32.5,15.5,48.5]\n",
    "    D = [116,91,65,39.5]\n",
    "    #LOOP I\n",
    "    if( np.arccos(np.sin(b*R)*np.sin(B[0]*R)+np.cos(b*R)*np.cos(B[0]*R)*np.cos(l*R-L[0]*R))<0.5*D[0]*R ):\n",
    "        cue = 0\n",
    "    #LOOP II\n",
    "    if( np.arccos(np.sin(b*R)*np.sin(B[1]*R)+np.cos(b*R)*np.cos(B[1]*R)*np.cos(l*R-L[1]*R))<0.5*D[1]*R ):\n",
    "        cue = 0\n",
    "    #LOOP III\n",
    "    if( np.arccos(np.sin(b*R)*np.sin(B[2]*R)+np.cos(b*R)*np.cos(B[2]*R)*np.cos(l*R-L[2]*R))<0.5*D[2]*R ):\n",
    "        cue = 0\n",
    "    #LOOP IV\n",
    "    if( np.arccos(np.sin(b*R)*np.sin(B[3]*R)+np.cos(b*R)*np.cos(B[3]*R)*np.cos(l*R-L[3]*R))<0.5*D[3]*R ):\n",
    "        cue = 0\n",
    "    #STRIPE\n",
    "    if(abs(b)<20.):\n",
    "        cue = 0\n",
    "    return cue\n",
    "\n",
    "mask_map = np.zeros(hp.nside2npix(mask_nside))\n",
    "\n",
    "for i in range(len(mask_map)):\n",
    "    mask_map[i] = mask_map_val(mask_nside, i)\n",
    "\n",
    "hp.orthview(mask_map, cmap='coolwarm', rot=(0,90))\n",
    "\n",
    "hp.mollview(mask_map, cmap='coolwarm')"
   ]
  },
  {
   "cell_type": "markdown",
   "metadata": {},
   "source": [
    "as **Masks** is derived from **ObservableDict**, its object creation is the same as **Measurements**"
   ]
  },
  {
   "cell_type": "code",
   "execution_count": null,
   "metadata": {},
   "outputs": [],
   "source": [
    "msk_dict = Masks()\n",
    "\n",
    "msk_dict.append(('sync', '23', '32', 'I'), np.vstack([mask_map]))"
   ]
  },
  {
   "cell_type": "markdown",
   "metadata": {},
   "source": [
    "**Masks** object, or the mask map dictionary is invoked in **Likelihood** initialisation\n",
    "\n",
    "where input **Measurements** and **Covariances** objects will be manipulated\n",
    "\n",
    "then in **Pipeline**, **Simulations** objects produced by a **Simulator** object will be processed in the same way\n",
    "\n",
    "here we illustrate what actually happens to observables\n",
    "\n",
    "fist, we need an observable dictionary"
   ]
  },
  {
   "cell_type": "code",
   "execution_count": null,
   "metadata": {},
   "outputs": [],
   "source": [
    "# empty measuremnts\n",
    "arr32 = np.zeros((1, 12*32**2))\n",
    "arr16 = np.zeros((1, 12*16**2))\n",
    "arr8 = np.zeros((1, 12*8**2))\n",
    "measuredict = Measurements()\n",
    "measuredict.append(('sync', '23', '32', 'I'), arr32)  # healpix map\n",
    "measuredict.append(('fd', 'nan', '16', 'nan'), arr16)\n",
    "measuredict.append(('dm', 'nan', '8', 'nan'), arr8)\n",
    "# consider only init, hammurabi executable is not necessary\n",
    "xmlpath = './template.xml'\n",
    "simer = Hammurabi(measurements=measuredict,xml_path=xmlpath)\n",
    "\n",
    "# ensemble size\n",
    "ensemble_size = 1\n",
    "\n",
    "# BregWMAP field\n",
    "paramlist = {'b0': 6.0, 'psi0': 27.9, 'psi1': 1.3, 'chi0': 24.6}\n",
    "breg_wmap = BregLSA(paramlist, ensemble_size)\n",
    "# CREAna field\n",
    "paramlist = {'alpha': 3.0, 'beta': 0.0, 'theta': 0.0,\n",
    "             'r0': 5.6, 'z0': 1.2,\n",
    "             'E0': 20.5,\n",
    "             'j0': 0.03}\n",
    "cre_ana = CREAna(paramlist, ensemble_size)\n",
    "# FEregYMW16 field\n",
    "paramlist = dict()\n",
    "fereg_ymw16 = TEregYMW16(paramlist, ensemble_size)\n",
    "\n",
    "# push fields to simulator\n",
    "simer.register_fields([breg_wmap, cre_ana, fereg_ymw16])\n",
    "\n",
    "maps = simer([breg_wmap, cre_ana, fereg_ymw16])\n",
    "\n",
    "print (maps.keys())"
   ]
  },
  {
   "cell_type": "code",
   "execution_count": null,
   "metadata": {},
   "outputs": [],
   "source": [
    "unmasked = maps[('sync','23','32','I')].data\n",
    "\n",
    "hp.mollview(unmasked[0], norm='hist', cmap='jet', min=0, max=1.0e-3)"
   ]
  },
  {
   "cell_type": "markdown",
   "metadata": {},
   "source": [
    "then apply the mask defined in the beginning, **only** to intensity map as defined\n",
    "\n",
    "<span style=\"color:red\">**apply_mask function will not act twice to the same map**</span>\n",
    "\n",
    "check closely to the following printing info, the Nside attribute value of masked has been changed to Npix\n",
    "\n",
    "and, consequently, the HEALPix map has been re-registered as a plain data"
   ]
  },
  {
   "cell_type": "code",
   "execution_count": null,
   "metadata": {},
   "outputs": [],
   "source": [
    "maps.apply_mask(msk_dict)\n",
    "\n",
    "print (maps.keys())\n",
    "\n",
    "raw_map = maps[('sync','23','4941','I')].data\n",
    "\n",
    "masked = np.zeros(hp.nside2npix(mask_nside))\n",
    "\n",
    "idx = int(0)\n",
    "for i in range(len(mask_map)):\n",
    "    if mask_map[i] == 0:\n",
    "        masked[i] = hp.UNSEEN\n",
    "    else:\n",
    "        masked[i] = raw_map[0,idx]\n",
    "        idx += int(1)\n",
    "\n",
    "hp.mollview(masked, norm='hist', cmap='jet', min=0, max=1.0e-3)\n",
    "\n",
    "# correctness check\n",
    "for i in range(len(masked)):\n",
    "    if mask_map[i] == 1 and masked[i] - unmasked[0][i] != 0:\n",
    "        print ('incorrect mask')"
   ]
  },
  {
   "cell_type": "markdown",
   "metadata": {},
   "source": [
    "### This ends tutorial 4. Continue to tutorial 5:\n",
    "\n",
    "* [Tutorial 5](tutorial_five.ipynb):  An almost realistic pipeline run\n",
    "\n",
    "Or see more examples in the *imagine/examples* directory"
   ]
  }
 ],
 "metadata": {
  "kernelspec": {
   "display_name": "Python 3",
   "language": "python",
   "name": "python3"
  },
  "language_info": {
   "codemirror_mode": {
    "name": "ipython",
    "version": 3
   },
   "file_extension": ".py",
   "mimetype": "text/x-python",
   "name": "python",
   "nbconvert_exporter": "python",
   "pygments_lexer": "ipython3",
   "version": "3.7.4"
  }
 },
 "nbformat": 4,
 "nbformat_minor": 4
}
