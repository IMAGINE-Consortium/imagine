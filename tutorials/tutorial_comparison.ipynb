{
 "cells": [
  {
   "cell_type": "markdown",
   "metadata": {},
   "source": [
    "# Model comparison\n",
    "\n"
   ]
  },
  {
   "cell_type": "markdown",
   "metadata": {},
   "source": [
    "## Model evidence\n",
    "\n",
    "In the context of Bayesian statistics, the most rigorous way of comparing a set of models is looking at the Bayes *evidence* associated with each model.\n",
    "Given a dataset $\\mathcal D$, model $\\mathcal M$ and a set of parameter $\\theta$, the evidence or\n",
    "[marginal likelihood](https://en.wikipedia.org/wiki/Marginal_likelihood) is given by\n",
    "\n",
    "$$\n",
    "    \\mathcal{Z} = P(\\mathcal D|\\mathcal M) = \\int_\\theta P(\\mathcal D | \\theta, \\mathcal M) P(\\theta | \\mathcal M) \\mathrm{d}\\theta \n",
    "                = \\int_\\theta \\mathcal{L}_{\\mathcal M}(\\theta) \\pi(\\theta) \\mathrm{d}\\theta\n",
    "$$\n",
    "\n",
    "To compare different models, one wants to compute the [Bayes factor](https://en.wikipedia.org/wiki/Bayes_factor), which is given by\n",
    "\n",
    "$$\n",
    "    R = \\frac{P(\\mathcal{M}_1 | d)}{P(\\mathcal{M}_2 | d)} \n",
    "      = \\frac{P(\\mathcal{D} | \\mathcal{M}_1) P(\\mathcal{M}_1)}{P(\\mathcal{D} | \\mathcal{M}_2) P(\\mathcal{M}_2)}\n",
    "      = \\frac{\\mathcal{Z}_1}{\\mathcal{Z}_2} \\times \\frac{P(\\mathcal{M}_1)}{P(\\mathcal{M}_2)} . \n",
    "$$\n",
    "\n",
    "If there is no a priori reason for preferring one model over the other (as it is often the case), the prior ratio $P(m_1)/P(m_2)$\n",
    "becomes unity and the Bayes factor becomes the ratio of evidences. \n"
   ]
  },
  {
   "cell_type": "markdown",
   "metadata": {},
   "source": [
    "## Information criteria"
   ]
  },
  {
   "cell_type": "code",
   "execution_count": null,
   "metadata": {},
   "outputs": [],
   "source": []
  }
 ],
 "metadata": {
  "kernelspec": {
   "display_name": "Python (imagine)",
   "language": "python",
   "name": "imagine"
  },
  "language_info": {
   "codemirror_mode": {
    "name": "ipython",
    "version": 3
   },
   "file_extension": ".py",
   "mimetype": "text/x-python",
   "name": "python",
   "nbconvert_exporter": "python",
   "pygments_lexer": "ipython3",
   "version": "3.7.8"
  }
 },
 "nbformat": 4,
 "nbformat_minor": 4
}
