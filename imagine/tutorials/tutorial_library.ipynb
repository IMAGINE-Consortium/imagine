{
 "cells": [
  {
   "attachments": {},
   "cell_type": "markdown",
   "metadata": {},
   "source": [
    "# Usage of the Imagine Model library\n",
    "\n",
    "In this tutorial, we focus on introducing the model library and the IMAGINE built-in simulators as a building block of the IMAGINE package and how to use it for assembling a Bayesian analysis pipeline.\n",
    "     "
   ]
  },
  {
   "attachments": {},
   "cell_type": "markdown",
   "metadata": {},
   "source": [
    "## 1) Initialize the models\n",
    "\n"
   ]
  },
  {
   "cell_type": "code",
   "execution_count": 36,
   "metadata": {},
   "outputs": [],
   "source": [
    "import imagine as img\n",
    "import imagine.observables as img_obs\n",
    "import numpy as np\n",
    "import astropy.units as u\n",
    "from astropy.coordinates import cartesian_to_spherical"
   ]
  },
  {
   "cell_type": "code",
   "execution_count": 37,
   "metadata": {},
   "outputs": [],
   "source": [
    "# Fixes numpy seed to ensure this notebook leads always to the same results\n",
    "np.random.seed(42)\n",
    "\n",
    "# A cartesian grid can be constructed as follows\n",
    "cartesian_grid = img.fields.UniformGrid(box=[[-15*u.kpc, 15*u.kpc],\n",
    "                                             [-15*u.kpc, 15*u.kpc],\n",
    "                                             [-15*u.kpc, 15*u.kpc]],\n",
    "                                        resolution = [15,15,15])\n"
   ]
  },
  {
   "cell_type": "code",
   "execution_count": 38,
   "metadata": {},
   "outputs": [],
   "source": [
    "jf_12_field = img.fields.library.JF12Regular(grid=cartesian_grid) # using default parameters"
   ]
  },
  {
   "cell_type": "markdown",
   "metadata": {},
   "source": []
  },
  {
   "cell_type": "code",
   "execution_count": 39,
   "metadata": {},
   "outputs": [],
   "source": [
    "jf_12_factory = img.fields.FieldFactory(\n",
    "    field_class=jf_12_field,\n",
    "    grid=cartesian_grid,\n",
    "    active_parameters=[],\n",
    "    default_parameters = {})\n",
    "        "
   ]
  },
  {
   "cell_type": "code",
   "execution_count": 40,
   "metadata": {},
   "outputs": [],
   "source": [
    "ymw16_field = img.fields.library.YMW16(grid=cartesian_grid) # using default parameters"
   ]
  },
  {
   "cell_type": "code",
   "execution_count": 41,
   "metadata": {},
   "outputs": [],
   "source": [
    "ymw16_factory = img.fields.FieldFactory(\n",
    "    field_class=ymw16_field,\n",
    "    grid=cartesian_grid,\n",
    "    active_parameters=[],\n",
    "    default_parameters = {'central_density': 1*u.cm**-3,\n",
    "                          'scale_radius': 3.0*u.kpc,\n",
    "                          'scale_height': 0.5*u.kpc})"
   ]
  },
  {
   "cell_type": "code",
   "execution_count": 42,
   "metadata": {},
   "outputs": [
    {
     "name": "stdout",
     "output_type": "stream",
     "text": [
      "dict_keys([('fd', None, 'tab', None)])\n"
     ]
    },
    {
     "ename": "TypeError",
     "evalue": "only dimensionless scalar quantities can be converted to Python scalars",
     "output_type": "error",
     "traceback": [
      "\u001b[0;31m---------------------------------------------------------------------------\u001b[0m",
      "\u001b[0;31mUnitConversionError\u001b[0m                       Traceback (most recent call last)",
      "File \u001b[0;32m~/Development/PythonProjects/imagine/venv/lib/python3.8/site-packages/astropy/units/quantity.py:959\u001b[0m, in \u001b[0;36mQuantity.to_value\u001b[0;34m(self, unit, equivalencies)\u001b[0m\n\u001b[1;32m    958\u001b[0m \u001b[39mtry\u001b[39;00m:\n\u001b[0;32m--> 959\u001b[0m     scale \u001b[39m=\u001b[39m \u001b[39mself\u001b[39;49m\u001b[39m.\u001b[39;49munit\u001b[39m.\u001b[39;49m_to(unit)\n\u001b[1;32m    960\u001b[0m \u001b[39mexcept\u001b[39;00m \u001b[39mException\u001b[39;00m:\n\u001b[1;32m    961\u001b[0m     \u001b[39m# Short-cut failed; try default (maybe equivalencies help).\u001b[39;00m\n",
      "File \u001b[0;32m~/Development/PythonProjects/imagine/venv/lib/python3.8/site-packages/astropy/units/core.py:1129\u001b[0m, in \u001b[0;36mUnitBase._to\u001b[0;34m(self, other)\u001b[0m\n\u001b[1;32m   1127\u001b[0m         \u001b[39mreturn\u001b[39;00m self_decomposed\u001b[39m.\u001b[39mscale \u001b[39m/\u001b[39m other_decomposed\u001b[39m.\u001b[39mscale\n\u001b[0;32m-> 1129\u001b[0m \u001b[39mraise\u001b[39;00m UnitConversionError(\u001b[39mf\u001b[39m\u001b[39m\"\u001b[39m\u001b[39m'\u001b[39m\u001b[39m{\u001b[39;00m\u001b[39mself\u001b[39m\u001b[39m!r}\u001b[39;00m\u001b[39m'\u001b[39m\u001b[39m is not a scaled version of \u001b[39m\u001b[39m'\u001b[39m\u001b[39m{\u001b[39;00mother\u001b[39m!r}\u001b[39;00m\u001b[39m'\u001b[39m\u001b[39m\"\u001b[39m)\n",
      "\u001b[0;31mUnitConversionError\u001b[0m: 'Unit(\"1 / kpc\")' is not a scaled version of 'Unit(dimensionless)'",
      "\nDuring handling of the above exception, another exception occurred:\n",
      "\u001b[0;31mUnitConversionError\u001b[0m                       Traceback (most recent call last)",
      "File \u001b[0;32m~/Development/PythonProjects/imagine/venv/lib/python3.8/site-packages/astropy/units/quantity.py:1327\u001b[0m, in \u001b[0;36mQuantity.__float__\u001b[0;34m(self)\u001b[0m\n\u001b[1;32m   1326\u001b[0m \u001b[39mtry\u001b[39;00m:\n\u001b[0;32m-> 1327\u001b[0m     \u001b[39mreturn\u001b[39;00m \u001b[39mfloat\u001b[39m(\u001b[39mself\u001b[39;49m\u001b[39m.\u001b[39;49mto_value(dimensionless_unscaled))\n\u001b[1;32m   1328\u001b[0m \u001b[39mexcept\u001b[39;00m (UnitsError, \u001b[39mTypeError\u001b[39;00m):\n",
      "File \u001b[0;32m~/Development/PythonProjects/imagine/venv/lib/python3.8/site-packages/astropy/units/quantity.py:962\u001b[0m, in \u001b[0;36mQuantity.to_value\u001b[0;34m(self, unit, equivalencies)\u001b[0m\n\u001b[1;32m    960\u001b[0m \u001b[39mexcept\u001b[39;00m \u001b[39mException\u001b[39;00m:\n\u001b[1;32m    961\u001b[0m     \u001b[39m# Short-cut failed; try default (maybe equivalencies help).\u001b[39;00m\n\u001b[0;32m--> 962\u001b[0m     value \u001b[39m=\u001b[39m \u001b[39mself\u001b[39;49m\u001b[39m.\u001b[39;49m_to_value(unit, equivalencies)\n\u001b[1;32m    963\u001b[0m \u001b[39melse\u001b[39;00m:\n",
      "File \u001b[0;32m~/Development/PythonProjects/imagine/venv/lib/python3.8/site-packages/astropy/units/quantity.py:868\u001b[0m, in \u001b[0;36mQuantity._to_value\u001b[0;34m(self, unit, equivalencies)\u001b[0m\n\u001b[1;32m    866\u001b[0m \u001b[39mif\u001b[39;00m \u001b[39mnot\u001b[39;00m \u001b[39mself\u001b[39m\u001b[39m.\u001b[39mdtype\u001b[39m.\u001b[39mnames \u001b[39mor\u001b[39;00m \u001b[39misinstance\u001b[39m(\u001b[39mself\u001b[39m\u001b[39m.\u001b[39munit, StructuredUnit):\n\u001b[1;32m    867\u001b[0m     \u001b[39m# Standard path, let unit to do work.\u001b[39;00m\n\u001b[0;32m--> 868\u001b[0m     \u001b[39mreturn\u001b[39;00m \u001b[39mself\u001b[39;49m\u001b[39m.\u001b[39;49munit\u001b[39m.\u001b[39;49mto(\n\u001b[1;32m    869\u001b[0m         unit, \u001b[39mself\u001b[39;49m\u001b[39m.\u001b[39;49mview(np\u001b[39m.\u001b[39;49mndarray), equivalencies\u001b[39m=\u001b[39;49mequivalencies\n\u001b[1;32m    870\u001b[0m     )\n\u001b[1;32m    872\u001b[0m \u001b[39melse\u001b[39;00m:\n\u001b[1;32m    873\u001b[0m     \u001b[39m# The .to() method of a simple unit cannot convert a structured\u001b[39;00m\n\u001b[1;32m    874\u001b[0m     \u001b[39m# dtype, so we work around it, by recursing.\u001b[39;00m\n\u001b[1;32m    875\u001b[0m     \u001b[39m# TODO: deprecate this?\u001b[39;00m\n\u001b[1;32m    876\u001b[0m     \u001b[39m# Convert simple to Structured on initialization?\u001b[39;00m\n",
      "File \u001b[0;32m~/Development/PythonProjects/imagine/venv/lib/python3.8/site-packages/astropy/units/core.py:1165\u001b[0m, in \u001b[0;36mUnitBase.to\u001b[0;34m(self, other, value, equivalencies)\u001b[0m\n\u001b[1;32m   1164\u001b[0m \u001b[39melse\u001b[39;00m:\n\u001b[0;32m-> 1165\u001b[0m     \u001b[39mreturn\u001b[39;00m \u001b[39mself\u001b[39;49m\u001b[39m.\u001b[39;49m_get_converter(Unit(other), equivalencies)(value)\n",
      "File \u001b[0;32m~/Development/PythonProjects/imagine/venv/lib/python3.8/site-packages/astropy/units/core.py:1094\u001b[0m, in \u001b[0;36mUnitBase._get_converter\u001b[0;34m(self, other, equivalencies)\u001b[0m\n\u001b[1;32m   1092\u001b[0m                 \u001b[39mreturn\u001b[39;00m \u001b[39mlambda\u001b[39;00m v: b(converter(v))\n\u001b[0;32m-> 1094\u001b[0m \u001b[39mraise\u001b[39;00m exc\n",
      "File \u001b[0;32m~/Development/PythonProjects/imagine/venv/lib/python3.8/site-packages/astropy/units/core.py:1077\u001b[0m, in \u001b[0;36mUnitBase._get_converter\u001b[0;34m(self, other, equivalencies)\u001b[0m\n\u001b[1;32m   1076\u001b[0m \u001b[39mtry\u001b[39;00m:\n\u001b[0;32m-> 1077\u001b[0m     \u001b[39mreturn\u001b[39;00m \u001b[39mself\u001b[39;49m\u001b[39m.\u001b[39;49m_apply_equivalencies(\n\u001b[1;32m   1078\u001b[0m         \u001b[39mself\u001b[39;49m, other, \u001b[39mself\u001b[39;49m\u001b[39m.\u001b[39;49m_normalize_equivalencies(equivalencies)\n\u001b[1;32m   1079\u001b[0m     )\n\u001b[1;32m   1080\u001b[0m \u001b[39mexcept\u001b[39;00m UnitsError \u001b[39mas\u001b[39;00m exc:\n\u001b[1;32m   1081\u001b[0m     \u001b[39m# Last hope: maybe other knows how to do it?\u001b[39;00m\n\u001b[1;32m   1082\u001b[0m     \u001b[39m# We assume the equivalencies have the unit itself as first item.\u001b[39;00m\n\u001b[1;32m   1083\u001b[0m     \u001b[39m# TODO: maybe better for other to have a `_back_converter` method?\u001b[39;00m\n",
      "File \u001b[0;32m~/Development/PythonProjects/imagine/venv/lib/python3.8/site-packages/astropy/units/core.py:1054\u001b[0m, in \u001b[0;36mUnitBase._apply_equivalencies\u001b[0;34m(self, unit, other, equivalencies)\u001b[0m\n\u001b[1;32m   1052\u001b[0m other_str \u001b[39m=\u001b[39m get_err_str(other)\n\u001b[0;32m-> 1054\u001b[0m \u001b[39mraise\u001b[39;00m UnitConversionError(\u001b[39mf\u001b[39m\u001b[39m\"\u001b[39m\u001b[39m{\u001b[39;00munit_str\u001b[39m}\u001b[39;00m\u001b[39m and \u001b[39m\u001b[39m{\u001b[39;00mother_str\u001b[39m}\u001b[39;00m\u001b[39m are not convertible\u001b[39m\u001b[39m\"\u001b[39m)\n",
      "\u001b[0;31mUnitConversionError\u001b[0m: '1 / kpc' (wavenumber) and '' (dimensionless) are not convertible",
      "\nDuring handling of the above exception, another exception occurred:\n",
      "\u001b[0;31mTypeError\u001b[0m                                 Traceback (most recent call last)",
      "Cell \u001b[0;32mIn[42], line 49\u001b[0m\n\u001b[1;32m     46\u001b[0m \u001b[39mprint\u001b[39m(trigger\u001b[39m.\u001b[39mkeys())\n\u001b[1;32m     48\u001b[0m \u001b[39m# Prepares the Hammurabi simmulator for the mock generation\u001b[39;00m\n\u001b[0;32m---> 49\u001b[0m mock_generator \u001b[39m=\u001b[39m img\u001b[39m.\u001b[39;49msimulators\u001b[39m.\u001b[39;49mRMSimulator(measurements\u001b[39m=\u001b[39;49mtrigger, sim_config\u001b[39m=\u001b[39;49msim_config)\n",
      "File \u001b[0;32m~/Development/PythonProjects/imagine/venv/lib/python3.8/site-packages/imagine/simulators/rmlos.py:83\u001b[0m, in \u001b[0;36mRMSimulator.__init__\u001b[0;34m(self, measurements, sim_config)\u001b[0m\n\u001b[1;32m     80\u001b[0m e_dist  \u001b[39m=\u001b[39m sim_config[\u001b[39m'\u001b[39m\u001b[39me_dist\u001b[39m\u001b[39m'\u001b[39m]\u001b[39m.\u001b[39mto(u\u001b[39m.\u001b[39mkpc)\n\u001b[1;32m     81\u001b[0m behind     \u001b[39m=\u001b[39m np\u001b[39m.\u001b[39mwhere(np\u001b[39m.\u001b[39mfull(\u001b[39mlen\u001b[39m(dist), \u001b[39mFalse\u001b[39;00m))\n\u001b[0;32m---> 83\u001b[0m \u001b[39mself\u001b[39m\u001b[39m.\u001b[39mresponse \u001b[39m=\u001b[39m build_nifty_los(grid, behind, u\u001b[39m.\u001b[39;49mkpc, observer, dist, lon, lat, e_dist)\n\u001b[1;32m     85\u001b[0m \u001b[39mself\u001b[39m\u001b[39m.\u001b[39mdistances \u001b[39m=\u001b[39m dist \u001b[39m# need for average emissivities\u001b[39;00m\n\u001b[1;32m     87\u001b[0m unitvectors \u001b[39m=\u001b[39m []\n",
      "File \u001b[0;32m~/Development/PythonProjects/imagine/venv/lib/python3.8/site-packages/imagine/simulators/LOSresponse.py:29\u001b[0m, in \u001b[0;36mbuild_nifty_los\u001b[0;34m(grid, behind, unit, observer, dist, lon, lat, dist_error)\u001b[0m\n\u001b[1;32m     27\u001b[0m ymax \u001b[39m=\u001b[39m (cbox[\u001b[39m1\u001b[39m][\u001b[39m1\u001b[39m]\u001b[39m-\u001b[39mcbox[\u001b[39m1\u001b[39m][\u001b[39m0\u001b[39m])\u001b[39m/\u001b[39munit\n\u001b[1;32m     28\u001b[0m zmax \u001b[39m=\u001b[39m (cbox[\u001b[39m2\u001b[39m][\u001b[39m1\u001b[39m]\u001b[39m-\u001b[39mcbox[\u001b[39m2\u001b[39m][\u001b[39m0\u001b[39m])\u001b[39m/\u001b[39munit       \n\u001b[0;32m---> 29\u001b[0m box  \u001b[39m=\u001b[39m np\u001b[39m.\u001b[39;49marray([xmax,ymax,zmax])\n\u001b[1;32m     30\u001b[0m grid_distances \u001b[39m=\u001b[39m \u001b[39mtuple\u001b[39m([b\u001b[39m/\u001b[39mr \u001b[39mfor\u001b[39;00m b,r \u001b[39min\u001b[39;00m \u001b[39mzip\u001b[39m(box, grid\u001b[39m.\u001b[39mresolution)])\n\u001b[1;32m     31\u001b[0m domain \u001b[39m=\u001b[39m ift\u001b[39m.\u001b[39mmakeDomain(ift\u001b[39m.\u001b[39mRGSpace(grid\u001b[39m.\u001b[39mresolution, grid_distances)) \u001b[39m# need this later for the los integration \u001b[39;00m\n",
      "File \u001b[0;32m~/Development/PythonProjects/imagine/venv/lib/python3.8/site-packages/astropy/units/quantity.py:1329\u001b[0m, in \u001b[0;36mQuantity.__float__\u001b[0;34m(self)\u001b[0m\n\u001b[1;32m   1327\u001b[0m     \u001b[39mreturn\u001b[39;00m \u001b[39mfloat\u001b[39m(\u001b[39mself\u001b[39m\u001b[39m.\u001b[39mto_value(dimensionless_unscaled))\n\u001b[1;32m   1328\u001b[0m \u001b[39mexcept\u001b[39;00m (UnitsError, \u001b[39mTypeError\u001b[39;00m):\n\u001b[0;32m-> 1329\u001b[0m     \u001b[39mraise\u001b[39;00m \u001b[39mTypeError\u001b[39;00m(\n\u001b[1;32m   1330\u001b[0m         \u001b[39m\"\u001b[39m\u001b[39monly dimensionless scalar quantities can be \u001b[39m\u001b[39m\"\u001b[39m\n\u001b[1;32m   1331\u001b[0m         \u001b[39m\"\u001b[39m\u001b[39mconverted to Python scalars\u001b[39m\u001b[39m\"\u001b[39m\n\u001b[1;32m   1332\u001b[0m     )\n",
      "\u001b[0;31mTypeError\u001b[0m: only dimensionless scalar quantities can be converted to Python scalars"
     ]
    }
   ],
   "source": [
    "n_data = 500\n",
    "\n",
    "xmax = 15\n",
    "ymax = 15\n",
    "zmax = 2\n",
    "x = np.random.uniform(-0.9*xmax, 0.9*xmax, n_data)\n",
    "y = np.random.uniform(-0.9*ymax, 0.9*ymax, n_data)\n",
    "z = np.random.uniform(-0.9*zmax, 0.9*zmax, n_data)\n",
    "\n",
    "cartesian_grid = img.fields.UniformGrid(box=[[-xmax, xmax],\n",
    "                                                [-ymax, ymax],\n",
    "                                                [-zmax, zmax]],\n",
    "                                        resolution=[30, 30, 10])\n",
    " \n",
    "dist, lat, lon = cartesian_to_spherical(x*u.kpc+8.5*u.kpc, y*u.kpc, z*u.kpc)\n",
    "dist_e = np.random.normal(0, 0.1*dist)*u.kpc\n",
    "\n",
    "fd_unit = u.rad/(u.m**2)\n",
    "\n",
    "\n",
    "\n",
    "\n",
    "\n",
    "nside=2\n",
    "size = 12*nside**2 \n",
    "\n",
    "# Generates the container for mock dataset\n",
    "fd = np.zeros(n_data) * fd_unit  # placeholder\n",
    "fd_err = np.zeros(n_data) * fd_unit   # placeholder\n",
    "\n",
    "mock_dset = {'fd': fd, 'err': fd_err, 'lat': lat, 'lon': lon}\n",
    "\n",
    "mock_dset = img.observables.TabularDataset(mock_dset,\n",
    "                                           name='fd',\n",
    "                                           units=fd_unit,\n",
    "                                           data_col='fd',\n",
    "                                           err_col='err',\n",
    "                                           lat_col='lat',\n",
    "                                           lon_col='lon')\n",
    "\n",
    "sim_config = {'lat': lat, 'lon': lon, 'dist': dist, 'e_dist': dist_e, 'grid': cartesian_grid, 'observer': np.array([-8.5, 0, 0])*u.kpc}\n",
    "\n",
    "\n",
    "# Appends them to an Observables Dictionary\n",
    "trigger = img_obs.Measurements(mock_dset)\n",
    "print(trigger.keys())\n",
    "\n",
    "# Prepares the Hammurabi simmulator for the mock generation\n",
    "mock_generator = img.simulators.RMSimulator(measurements=trigger, sim_config=sim_config)"
   ]
  },
  {
   "cell_type": "code",
   "execution_count": null,
   "metadata": {},
   "outputs": [],
   "source": [
    "pipeline = img.pipelines.MultinestPipeline(run_directory = '../runs/tutorial_example/',\n",
    "                                           simulator = simulator, \n",
    "                                           show_progress_reports=True,\n",
    "                                           factory_list=factory_list, \n",
    "                                           likelihood=likelihood, \n",
    "                                           ensemble_size=1, n_evals_report=15)\n",
    "pipeline.sampling_controllers = {'n_live_points': 500}"
   ]
  }
 ],
 "metadata": {
  "kernelspec": {
   "display_name": "venv",
   "language": "python",
   "name": "python3"
  },
  "language_info": {
   "codemirror_mode": {
    "name": "ipython",
    "version": 3
   },
   "file_extension": ".py",
   "mimetype": "text/x-python",
   "name": "python",
   "nbconvert_exporter": "python",
   "pygments_lexer": "ipython3",
   "version": "3.8.10"
  }
 },
 "nbformat": 4,
 "nbformat_minor": 4
}
