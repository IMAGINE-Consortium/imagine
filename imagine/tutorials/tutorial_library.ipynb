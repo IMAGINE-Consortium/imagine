{
 "cells": [
  {
   "attachments": {},
   "cell_type": "markdown",
   "metadata": {},
   "source": [
    "# Usage of the Imagine Model library\n",
    "\n",
    "In this tutorial, we focus on introducing the model library and the IMAGINE built-in simulators as a building block of the IMAGINE package and how to use it for assembling a Bayesian analysis pipeline.\n",
    "     "
   ]
  },
  {
   "attachments": {},
   "cell_type": "markdown",
   "metadata": {},
   "source": [
    "## 1) Initialize the models\n",
    "\n"
   ]
  },
  {
   "cell_type": "code",
   "execution_count": 19,
   "metadata": {},
   "outputs": [],
   "source": [
    "import imagine as img\n",
    "import imagine.observables as img_obs\n",
    "import numpy as np\n",
    "import astropy.units as u"
   ]
  },
  {
   "cell_type": "code",
   "execution_count": 20,
   "metadata": {},
   "outputs": [],
   "source": [
    "# Fixes numpy seed to ensure this notebook leads always to the same results\n",
    "np.random.seed(42)\n",
    "\n",
    "# A cartesian grid can be constructed as follows\n",
    "cartesian_grid = img.fields.UniformGrid(box=[[-15*u.kpc, 15*u.kpc],\n",
    "                                             [-15*u.kpc, 15*u.kpc],\n",
    "                                             [-15*u.kpc, 15*u.kpc]],\n",
    "                                        resolution = [15,15,15])\n"
   ]
  },
  {
   "cell_type": "code",
   "execution_count": 21,
   "metadata": {},
   "outputs": [],
   "source": [
    "jf_12_field = img.fields.library.JF12Regular(grid=cartesian_grid) # using default parameters"
   ]
  },
  {
   "cell_type": "markdown",
   "metadata": {},
   "source": []
  },
  {
   "cell_type": "code",
   "execution_count": 22,
   "metadata": {},
   "outputs": [],
   "source": [
    "jf_12_factory = img.fields.FieldFactory(\n",
    "    field_class=jf_12_field,\n",
    "    grid=cartesian_grid,\n",
    "    active_parameters=[],\n",
    "    default_parameters = {})\n",
    "        "
   ]
  },
  {
   "cell_type": "code",
   "execution_count": 23,
   "metadata": {},
   "outputs": [],
   "source": [
    "ymw16_field = img.fields.library.YMW16(grid=cartesian_grid) # using default parameters"
   ]
  },
  {
   "cell_type": "code",
   "execution_count": 24,
   "metadata": {},
   "outputs": [],
   "source": [
    "ymw16_factory = img.fields.FieldFactory(\n",
    "    field_class=ymw16_field,\n",
    "    grid=cartesian_grid,\n",
    "    active_parameters=[],\n",
    "    default_parameters = {'central_density': 1*u.cm**-3,\n",
    "                          'scale_radius': 3.0*u.kpc,\n",
    "                          'scale_height': 0.5*u.kpc})"
   ]
  },
  {
   "cell_type": "code",
   "execution_count": 25,
   "metadata": {},
   "outputs": [
    {
     "ename": "AssertionError",
     "evalue": "No valid observable was requested!",
     "output_type": "error",
     "traceback": [
      "\u001b[0;31m---------------------------------------------------------------------------\u001b[0m",
      "\u001b[0;31mAssertionError\u001b[0m                            Traceback (most recent call last)",
      "Cell \u001b[0;32mIn[25], line 13\u001b[0m\n\u001b[1;32m     10\u001b[0m trigger \u001b[39m=\u001b[39m img_obs\u001b[39m.\u001b[39mMeasurements(sync_dset, fd_dset)\n\u001b[1;32m     12\u001b[0m \u001b[39m# Prepares the Hammurabi simmulator for the mock generation\u001b[39;00m\n\u001b[0;32m---> 13\u001b[0m mock_generator \u001b[39m=\u001b[39m img\u001b[39m.\u001b[39;49msimulators\u001b[39m.\u001b[39;49mRMSimulator(measurements\u001b[39m=\u001b[39;49mtrigger)\n",
      "File \u001b[0;32m~/Development/PythonProjects/imagine/venv/lib/python3.8/site-packages/imagine/simulators/rmlos.py:69\u001b[0m, in \u001b[0;36mRMSimulator.__init__\u001b[0;34m(self, measurements, sim_config)\u001b[0m\n\u001b[1;32m     64\u001b[0m \u001b[39mdef\u001b[39;00m \u001b[39m__init__\u001b[39m(\u001b[39mself\u001b[39m, measurements, sim_config\u001b[39m=\u001b[39m{\u001b[39m'\u001b[39m\u001b[39mgrid\u001b[39m\u001b[39m'\u001b[39m:\u001b[39mNone\u001b[39;00m, \u001b[39m'\u001b[39m\u001b[39mobserver\u001b[39m\u001b[39m'\u001b[39m:\u001b[39mNone\u001b[39;00m, \u001b[39m'\u001b[39m\u001b[39mdist\u001b[39m\u001b[39m'\u001b[39m:\u001b[39mNone\u001b[39;00m, \u001b[39m'\u001b[39m\u001b[39me_dist\u001b[39m\u001b[39m'\u001b[39m:\u001b[39mNone\u001b[39;00m, \u001b[39m'\u001b[39m\u001b[39mlat\u001b[39m\u001b[39m'\u001b[39m:\u001b[39mNone\u001b[39;00m,\u001b[39m'\u001b[39m\u001b[39m lon\u001b[39m\u001b[39m'\u001b[39m:\u001b[39mNone\u001b[39;00m}):\n\u001b[1;32m     65\u001b[0m     \n\u001b[1;32m     66\u001b[0m     \u001b[39m# print(\"Initializing RMSimulator\")\u001b[39;00m\n\u001b[1;32m     67\u001b[0m \n\u001b[1;32m     68\u001b[0m     \u001b[39m# Send the Measurements to the parent class\u001b[39;00m\n\u001b[0;32m---> 69\u001b[0m     \u001b[39msuper\u001b[39;49m()\u001b[39m.\u001b[39;49m\u001b[39m__init__\u001b[39;49m(measurements) \n\u001b[1;32m     71\u001b[0m     \u001b[39m# unpack for readability\u001b[39;00m\n\u001b[1;32m     73\u001b[0m     grid \u001b[39m=\u001b[39m sim_config[\u001b[39m'\u001b[39m\u001b[39mgrid\u001b[39m\u001b[39m'\u001b[39m] \n",
      "File \u001b[0;32m~/Development/PythonProjects/imagine/venv/lib/python3.8/site-packages/imagine/simulators/simulator.py:62\u001b[0m, in \u001b[0;36mSimulator.__init__\u001b[0;34m(self, measurements)\u001b[0m\n\u001b[1;32m     60\u001b[0m \u001b[39mself\u001b[39m\u001b[39m.\u001b[39moutput_type \u001b[39m=\u001b[39m {}\n\u001b[1;32m     61\u001b[0m \u001b[39mself\u001b[39m\u001b[39m.\u001b[39m_ensemble_size \u001b[39m=\u001b[39m \u001b[39mNone\u001b[39;00m\n\u001b[0;32m---> 62\u001b[0m \u001b[39mself\u001b[39;49m\u001b[39m.\u001b[39;49mregister_observables(measurements)\n",
      "File \u001b[0;32m~/Development/PythonProjects/imagine/venv/lib/python3.8/site-packages/imagine/simulators/simulator.py:85\u001b[0m, in \u001b[0;36mSimulator.register_observables\u001b[0;34m(self, measurements)\u001b[0m\n\u001b[1;32m     83\u001b[0m         \u001b[39mself\u001b[39m\u001b[39m.\u001b[39moutput_type[key] \u001b[39m=\u001b[39m measurements[key]\u001b[39m.\u001b[39motype\n\u001b[1;32m     84\u001b[0m         \u001b[39mself\u001b[39m\u001b[39m.\u001b[39moutput_units[key] \u001b[39m=\u001b[39m measurements[key]\u001b[39m.\u001b[39munit\n\u001b[0;32m---> 85\u001b[0m \u001b[39massert\u001b[39;00m \u001b[39mlen\u001b[39m(\u001b[39mself\u001b[39m\u001b[39m.\u001b[39mobservables) \u001b[39m>\u001b[39m \u001b[39m0\u001b[39m, \u001b[39m'\u001b[39m\u001b[39mNo valid observable was requested!\u001b[39m\u001b[39m'\u001b[39m\n",
      "\u001b[0;31mAssertionError\u001b[0m: No valid observable was requested!"
     ]
    }
   ],
   "source": [
    "nside=2\n",
    "size = 12*nside**2 \n",
    "\n",
    "# Generates the container for mock dataset\n",
    "fd_dset = img_obs.FaradayDepthHEALPixDataset(data=np.empty(size)*u.rad/u.m**2)\n",
    "\n",
    "# Appends them to an Observables Dictionary\n",
    "trigger = img_obs.Measurements(fd_dset)\n",
    "\n",
    "# Prepares the Hammurabi simmulator for the mock generation\n",
    "mock_generator = img.simulators.RMSimulator(measurements=trigger)"
   ]
  },
  {
   "cell_type": "code",
   "execution_count": null,
   "metadata": {},
   "outputs": [],
   "source": [
    "pipeline = img.pipelines.MultinestPipeline(run_directory='../runs/tutorial_example/',\n",
    "                                           simulator=simulator, \n",
    "                                           show_progress_reports=True,\n",
    "                                           factory_list=factory_list, \n",
    "                                           likelihood=likelihood, \n",
    "                                           ensemble_size=1, n_evals_report=15)\n",
    "pipeline.sampling_controllers = {'n_live_points': 500}"
   ]
  }
 ],
 "metadata": {
  "kernelspec": {
   "display_name": "venv",
   "language": "python",
   "name": "python3"
  },
  "language_info": {
   "codemirror_mode": {
    "name": "ipython",
    "version": 3
   },
   "file_extension": ".py",
   "mimetype": "text/x-python",
   "name": "python",
   "nbconvert_exporter": "python",
   "pygments_lexer": "ipython3",
   "version": "3.8.10"
  }
 },
 "nbformat": 4,
 "nbformat_minor": 4
}
